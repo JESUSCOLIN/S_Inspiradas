{
 "cells": [
  {
   "cell_type": "code",
   "execution_count": 1,
   "id": "1cf8834f",
   "metadata": {
    "cell_style": "center"
   },
   "outputs": [],
   "source": [
    "import pandas as pd\n",
    "import numpy as np\n",
    "import matplotlib.pyplot as plt\n"
   ]
  },
  {
   "cell_type": "code",
   "execution_count": 2,
   "id": "78e4f4f7",
   "metadata": {},
   "outputs": [
    {
     "name": "stderr",
     "output_type": "stream",
     "text": [
      "c:\\users\\asus\\appdata\\local\\programs\\python\\python39\\lib\\site-packages\\IPython\\core\\interactiveshell.py:3169: DtypeWarning: Columns (7) have mixed types.Specify dtype option on import or set low_memory=False.\n",
      "  has_raised = await self.run_ast_nodes(code_ast.body, cell_name,\n"
     ]
    }
   ],
   "source": [
    "path='DatosAA.csv'\n",
    "dataset=pd.read_csv(path, header=0)"
   ]
  },
  {
   "cell_type": "code",
   "execution_count": 3,
   "id": "1f8360f7",
   "metadata": {
    "hide_input": false
   },
   "outputs": [],
   "source": [
    "val=dataset['Patient age'].replace({'unknown':'30','1 day':'30'})\n",
    "val=pd.to_numeric(val)\n",
    "dataset['Patient age']=val\n",
    "#dataset['Patient age']"
   ]
  },
  {
   "cell_type": "code",
   "execution_count": 4,
   "id": "2f62e398",
   "metadata": {
    "hide_input": false
   },
   "outputs": [],
   "source": [
    "#dataset=dataset.fillna(method='ffill')\n",
    "dataset['Collection date']=pd.to_datetime(dataset['Collection date'],errors='coerce')\n",
    "#dataset['Patient age']=dataset['Patient age'].map({'unknown':'30','1 day':'30'})\n",
    "#dataset['Patient age']=pd.to_numeric(dataset['Patient age'])\n",
    "\n",
    "dataset['Patient status']=dataset['Patient status'].map({'Live':'A',\n",
    "                            'Outpatient':'A',\n",
    "                            'Outpatient - Home Monitoring':'A',\n",
    "                            'Hospitalized - Non-Serious Case':'A',\n",
    "                            'Live, symptomatic':'A',\n",
    "                            'Ambulatory':'A',\n",
    "                            'Ambulatory - Under Treatment':'A',\n",
    "                            'HOSPITALIZADO':'H',\n",
    "                            'Hospitalized':'H',\n",
    "                            'Hospitalized - Serious Case':'H',\n",
    "                            'Released':'H',\n",
    "                            'Decease':'D',\n",
    "                            'Deceased':'D',\n",
    "                            'Nasal swab':'unknown',\n",
    "                            'unknown':'unknown',\n",
    "                            'nan' : 'unknown'\n",
    "                           })\n",
    "dataset['Gender']=dataset['Gender'].map({'Female':'M',\n",
    "                            'HOMBRE':'H',\n",
    "                            'Male':'H',\n",
    "                            'unknown':'U',\n",
    "                           })"
   ]
  },
  {
   "cell_type": "code",
   "execution_count": 5,
   "id": "638502f7",
   "metadata": {},
   "outputs": [],
   "source": [
    "filt= dataset['Patient status']=='unknown'\n",
    "dataset=dataset.drop(index=dataset[filt].index)\n",
    "#dataset"
   ]
  },
  {
   "cell_type": "code",
   "execution_count": 6,
   "id": "14f10ed9",
   "metadata": {},
   "outputs": [],
   "source": [
    "dataset=dataset.dropna(subset=['Patient status'])"
   ]
  },
  {
   "cell_type": "code",
   "execution_count": 7,
   "id": "ac4b58bd",
   "metadata": {},
   "outputs": [
    {
     "data": {
      "text/html": [
       "<div>\n",
       "<style scoped>\n",
       "    .dataframe tbody tr th:only-of-type {\n",
       "        vertical-align: middle;\n",
       "    }\n",
       "\n",
       "    .dataframe tbody tr th {\n",
       "        vertical-align: top;\n",
       "    }\n",
       "\n",
       "    .dataframe thead th {\n",
       "        text-align: right;\n",
       "    }\n",
       "</style>\n",
       "<table border=\"1\" class=\"dataframe\">\n",
       "  <thead>\n",
       "    <tr style=\"text-align: right;\">\n",
       "      <th></th>\n",
       "      <th>Patient status</th>\n",
       "      <th>Gender</th>\n",
       "      <th>Patient age</th>\n",
       "      <th>Lineage</th>\n",
       "      <th>Clade</th>\n",
       "      <th>NSP3_I335V</th>\n",
       "      <th>NSP3_E158D</th>\n",
       "      <th>NSP2_I515V</th>\n",
       "      <th>NSP4_T204I</th>\n",
       "      <th>NSP13_R212Q</th>\n",
       "      <th>...</th>\n",
       "      <th>NSP15_P270T</th>\n",
       "      <th>N_S197L</th>\n",
       "      <th>NS7a_V93A</th>\n",
       "      <th>NSP3_E1231K</th>\n",
       "      <th>Spike_S256P</th>\n",
       "      <th>NSP3_E197del</th>\n",
       "      <th>NS8_P36S</th>\n",
       "      <th>E_S55F</th>\n",
       "      <th>NSP16_K277R</th>\n",
       "      <th>NSP14_A371D</th>\n",
       "    </tr>\n",
       "  </thead>\n",
       "  <tbody>\n",
       "    <tr>\n",
       "      <th>35</th>\n",
       "      <td>D</td>\n",
       "      <td>H</td>\n",
       "      <td>32</td>\n",
       "      <td>B.1.609</td>\n",
       "      <td>O</td>\n",
       "      <td>0</td>\n",
       "      <td>0</td>\n",
       "      <td>0</td>\n",
       "      <td>0</td>\n",
       "      <td>0</td>\n",
       "      <td>...</td>\n",
       "      <td>0</td>\n",
       "      <td>0</td>\n",
       "      <td>0</td>\n",
       "      <td>0</td>\n",
       "      <td>0</td>\n",
       "      <td>0</td>\n",
       "      <td>0</td>\n",
       "      <td>0</td>\n",
       "      <td>0</td>\n",
       "      <td>0</td>\n",
       "    </tr>\n",
       "    <tr>\n",
       "      <th>36</th>\n",
       "      <td>D</td>\n",
       "      <td>M</td>\n",
       "      <td>25</td>\n",
       "      <td>B.1</td>\n",
       "      <td>O</td>\n",
       "      <td>0</td>\n",
       "      <td>0</td>\n",
       "      <td>0</td>\n",
       "      <td>0</td>\n",
       "      <td>0</td>\n",
       "      <td>...</td>\n",
       "      <td>0</td>\n",
       "      <td>0</td>\n",
       "      <td>0</td>\n",
       "      <td>0</td>\n",
       "      <td>0</td>\n",
       "      <td>0</td>\n",
       "      <td>0</td>\n",
       "      <td>0</td>\n",
       "      <td>0</td>\n",
       "      <td>0</td>\n",
       "    </tr>\n",
       "    <tr>\n",
       "      <th>37</th>\n",
       "      <td>A</td>\n",
       "      <td>M</td>\n",
       "      <td>48</td>\n",
       "      <td>B.1.1.519</td>\n",
       "      <td>GR</td>\n",
       "      <td>0</td>\n",
       "      <td>0</td>\n",
       "      <td>0</td>\n",
       "      <td>0</td>\n",
       "      <td>0</td>\n",
       "      <td>...</td>\n",
       "      <td>0</td>\n",
       "      <td>0</td>\n",
       "      <td>0</td>\n",
       "      <td>0</td>\n",
       "      <td>0</td>\n",
       "      <td>0</td>\n",
       "      <td>0</td>\n",
       "      <td>0</td>\n",
       "      <td>0</td>\n",
       "      <td>0</td>\n",
       "    </tr>\n",
       "    <tr>\n",
       "      <th>38</th>\n",
       "      <td>A</td>\n",
       "      <td>M</td>\n",
       "      <td>47</td>\n",
       "      <td>B.1.2</td>\n",
       "      <td>GH</td>\n",
       "      <td>0</td>\n",
       "      <td>0</td>\n",
       "      <td>0</td>\n",
       "      <td>0</td>\n",
       "      <td>0</td>\n",
       "      <td>...</td>\n",
       "      <td>0</td>\n",
       "      <td>0</td>\n",
       "      <td>0</td>\n",
       "      <td>0</td>\n",
       "      <td>0</td>\n",
       "      <td>0</td>\n",
       "      <td>0</td>\n",
       "      <td>0</td>\n",
       "      <td>0</td>\n",
       "      <td>0</td>\n",
       "    </tr>\n",
       "    <tr>\n",
       "      <th>39</th>\n",
       "      <td>A</td>\n",
       "      <td>M</td>\n",
       "      <td>19</td>\n",
       "      <td>B.1.429</td>\n",
       "      <td>GH</td>\n",
       "      <td>0</td>\n",
       "      <td>0</td>\n",
       "      <td>0</td>\n",
       "      <td>0</td>\n",
       "      <td>0</td>\n",
       "      <td>...</td>\n",
       "      <td>0</td>\n",
       "      <td>0</td>\n",
       "      <td>0</td>\n",
       "      <td>0</td>\n",
       "      <td>0</td>\n",
       "      <td>0</td>\n",
       "      <td>0</td>\n",
       "      <td>0</td>\n",
       "      <td>0</td>\n",
       "      <td>0</td>\n",
       "    </tr>\n",
       "    <tr>\n",
       "      <th>...</th>\n",
       "      <td>...</td>\n",
       "      <td>...</td>\n",
       "      <td>...</td>\n",
       "      <td>...</td>\n",
       "      <td>...</td>\n",
       "      <td>...</td>\n",
       "      <td>...</td>\n",
       "      <td>...</td>\n",
       "      <td>...</td>\n",
       "      <td>...</td>\n",
       "      <td>...</td>\n",
       "      <td>...</td>\n",
       "      <td>...</td>\n",
       "      <td>...</td>\n",
       "      <td>...</td>\n",
       "      <td>...</td>\n",
       "      <td>...</td>\n",
       "      <td>...</td>\n",
       "      <td>...</td>\n",
       "      <td>...</td>\n",
       "      <td>...</td>\n",
       "    </tr>\n",
       "    <tr>\n",
       "      <th>8511</th>\n",
       "      <td>H</td>\n",
       "      <td>H</td>\n",
       "      <td>44</td>\n",
       "      <td>B.1.1</td>\n",
       "      <td>GR</td>\n",
       "      <td>0</td>\n",
       "      <td>0</td>\n",
       "      <td>0</td>\n",
       "      <td>0</td>\n",
       "      <td>0</td>\n",
       "      <td>...</td>\n",
       "      <td>0</td>\n",
       "      <td>0</td>\n",
       "      <td>0</td>\n",
       "      <td>0</td>\n",
       "      <td>0</td>\n",
       "      <td>0</td>\n",
       "      <td>0</td>\n",
       "      <td>0</td>\n",
       "      <td>0</td>\n",
       "      <td>0</td>\n",
       "    </tr>\n",
       "    <tr>\n",
       "      <th>8512</th>\n",
       "      <td>H</td>\n",
       "      <td>H</td>\n",
       "      <td>56</td>\n",
       "      <td>B.1.1.222</td>\n",
       "      <td>GR</td>\n",
       "      <td>0</td>\n",
       "      <td>0</td>\n",
       "      <td>0</td>\n",
       "      <td>0</td>\n",
       "      <td>0</td>\n",
       "      <td>...</td>\n",
       "      <td>0</td>\n",
       "      <td>0</td>\n",
       "      <td>0</td>\n",
       "      <td>0</td>\n",
       "      <td>0</td>\n",
       "      <td>0</td>\n",
       "      <td>0</td>\n",
       "      <td>0</td>\n",
       "      <td>0</td>\n",
       "      <td>0</td>\n",
       "    </tr>\n",
       "    <tr>\n",
       "      <th>8513</th>\n",
       "      <td>D</td>\n",
       "      <td>M</td>\n",
       "      <td>61</td>\n",
       "      <td>B.1.609</td>\n",
       "      <td>G</td>\n",
       "      <td>0</td>\n",
       "      <td>0</td>\n",
       "      <td>0</td>\n",
       "      <td>0</td>\n",
       "      <td>0</td>\n",
       "      <td>...</td>\n",
       "      <td>0</td>\n",
       "      <td>0</td>\n",
       "      <td>0</td>\n",
       "      <td>0</td>\n",
       "      <td>0</td>\n",
       "      <td>0</td>\n",
       "      <td>0</td>\n",
       "      <td>0</td>\n",
       "      <td>0</td>\n",
       "      <td>0</td>\n",
       "    </tr>\n",
       "    <tr>\n",
       "      <th>8514</th>\n",
       "      <td>H</td>\n",
       "      <td>H</td>\n",
       "      <td>26</td>\n",
       "      <td>B.1.609</td>\n",
       "      <td>G</td>\n",
       "      <td>0</td>\n",
       "      <td>0</td>\n",
       "      <td>0</td>\n",
       "      <td>0</td>\n",
       "      <td>0</td>\n",
       "      <td>...</td>\n",
       "      <td>0</td>\n",
       "      <td>0</td>\n",
       "      <td>0</td>\n",
       "      <td>0</td>\n",
       "      <td>0</td>\n",
       "      <td>0</td>\n",
       "      <td>0</td>\n",
       "      <td>0</td>\n",
       "      <td>0</td>\n",
       "      <td>0</td>\n",
       "    </tr>\n",
       "    <tr>\n",
       "      <th>8515</th>\n",
       "      <td>H</td>\n",
       "      <td>H</td>\n",
       "      <td>34</td>\n",
       "      <td>B.1.189</td>\n",
       "      <td>G</td>\n",
       "      <td>0</td>\n",
       "      <td>0</td>\n",
       "      <td>0</td>\n",
       "      <td>0</td>\n",
       "      <td>0</td>\n",
       "      <td>...</td>\n",
       "      <td>0</td>\n",
       "      <td>0</td>\n",
       "      <td>0</td>\n",
       "      <td>0</td>\n",
       "      <td>0</td>\n",
       "      <td>0</td>\n",
       "      <td>0</td>\n",
       "      <td>0</td>\n",
       "      <td>0</td>\n",
       "      <td>0</td>\n",
       "    </tr>\n",
       "  </tbody>\n",
       "</table>\n",
       "<p>5241 rows × 6965 columns</p>\n",
       "</div>"
      ],
      "text/plain": [
       "     Patient status Gender  Patient age    Lineage Clade  NSP3_I335V  \\\n",
       "35                D      H           32    B.1.609     O           0   \n",
       "36                D      M           25        B.1     O           0   \n",
       "37                A      M           48  B.1.1.519    GR           0   \n",
       "38                A      M           47      B.1.2    GH           0   \n",
       "39                A      M           19    B.1.429    GH           0   \n",
       "...             ...    ...          ...        ...   ...         ...   \n",
       "8511              H      H           44      B.1.1    GR           0   \n",
       "8512              H      H           56  B.1.1.222    GR           0   \n",
       "8513              D      M           61    B.1.609     G           0   \n",
       "8514              H      H           26    B.1.609     G           0   \n",
       "8515              H      H           34    B.1.189     G           0   \n",
       "\n",
       "      NSP3_E158D  NSP2_I515V  NSP4_T204I  NSP13_R212Q  ...  NSP15_P270T  \\\n",
       "35             0           0           0            0  ...            0   \n",
       "36             0           0           0            0  ...            0   \n",
       "37             0           0           0            0  ...            0   \n",
       "38             0           0           0            0  ...            0   \n",
       "39             0           0           0            0  ...            0   \n",
       "...          ...         ...         ...          ...  ...          ...   \n",
       "8511           0           0           0            0  ...            0   \n",
       "8512           0           0           0            0  ...            0   \n",
       "8513           0           0           0            0  ...            0   \n",
       "8514           0           0           0            0  ...            0   \n",
       "8515           0           0           0            0  ...            0   \n",
       "\n",
       "      N_S197L  NS7a_V93A  NSP3_E1231K  Spike_S256P  NSP3_E197del  NS8_P36S  \\\n",
       "35          0          0            0            0             0         0   \n",
       "36          0          0            0            0             0         0   \n",
       "37          0          0            0            0             0         0   \n",
       "38          0          0            0            0             0         0   \n",
       "39          0          0            0            0             0         0   \n",
       "...       ...        ...          ...          ...           ...       ...   \n",
       "8511        0          0            0            0             0         0   \n",
       "8512        0          0            0            0             0         0   \n",
       "8513        0          0            0            0             0         0   \n",
       "8514        0          0            0            0             0         0   \n",
       "8515        0          0            0            0             0         0   \n",
       "\n",
       "      E_S55F  NSP16_K277R  NSP14_A371D  \n",
       "35         0            0            0  \n",
       "36         0            0            0  \n",
       "37         0            0            0  \n",
       "38         0            0            0  \n",
       "39         0            0            0  \n",
       "...      ...          ...          ...  \n",
       "8511       0            0            0  \n",
       "8512       0            0            0  \n",
       "8513       0            0            0  \n",
       "8514       0            0            0  \n",
       "8515       0            0            0  \n",
       "\n",
       "[5241 rows x 6965 columns]"
      ]
     },
     "execution_count": 7,
     "metadata": {},
     "output_type": "execute_result"
    }
   ],
   "source": [
    "y = dataset.iloc[:, 8]\n",
    "x = pd.concat([dataset.iloc[:,[6,7,10,11]],dataset.iloc[:,range(13,6973)]], axis=1)\n",
    "z=pd.concat([dataset.iloc[:,[8,6,7,10,11]],dataset.iloc[:,range(13,6973)]], axis=1)\n",
    "z"
   ]
  },
  {
   "cell_type": "code",
   "execution_count": 8,
   "id": "e39b9558",
   "metadata": {},
   "outputs": [
    {
     "data": {
      "text/plain": [
       "array([[1., 0., 0., ..., 0., 0., 0.],\n",
       "       [0., 1., 0., ..., 0., 0., 0.],\n",
       "       [0., 1., 0., ..., 0., 0., 0.],\n",
       "       ...,\n",
       "       [0., 1., 0., ..., 0., 0., 0.],\n",
       "       [1., 0., 0., ..., 0., 0., 0.],\n",
       "       [1., 0., 0., ..., 0., 0., 0.]])"
      ]
     },
     "execution_count": 8,
     "metadata": {},
     "output_type": "execute_result"
    }
   ],
   "source": [
    "from sklearn.preprocessing import OneHotEncoder\n",
    "from sklearn.compose import make_column_transformer\n",
    "ohe= OneHotEncoder(sparse=False)\n",
    "columns_transx= make_column_transformer(\n",
    "    (OneHotEncoder(),['Gender','Lineage','Clade']),\n",
    "    remainder='passthrough',\n",
    ")\n",
    "\n",
    "#y=ohe.fit_transform(y.values)\n",
    "x=columns_transx.fit_transform(x)\n",
    "x"
   ]
  },
  {
   "cell_type": "code",
   "execution_count": 9,
   "id": "ff0c9c49",
   "metadata": {},
   "outputs": [],
   "source": [
    "y=ohe.fit_transform(pd.DataFrame(dataset['Patient status']))\n"
   ]
  },
  {
   "cell_type": "code",
   "execution_count": 10,
   "id": "cc8e5bb4",
   "metadata": {},
   "outputs": [
    {
     "data": {
      "text/plain": [
       "[array(['A', 'D', 'H'], dtype=object)]"
      ]
     },
     "execution_count": 10,
     "metadata": {},
     "output_type": "execute_result"
    }
   ],
   "source": [
    "ohe.categories_"
   ]
  },
  {
   "cell_type": "code",
   "execution_count": 11,
   "id": "d73c30c0",
   "metadata": {
    "scrolled": true
   },
   "outputs": [],
   "source": [
    "from sklearn.model_selection import train_test_split\n",
    "X_train, X_test, y_train, y_test = train_test_split(x, y, test_size = 0.25, random_state = 360)"
   ]
  },
  {
   "cell_type": "code",
   "execution_count": 12,
   "id": "9fbec97d",
   "metadata": {},
   "outputs": [],
   "source": [
    "from sklearn.preprocessing import StandardScaler\n",
    "sc_X = StandardScaler()\n",
    "X_train = sc_X.fit_transform(X_train)\n",
    "X_test = sc_X.transform(X_test)"
   ]
  },
  {
   "cell_type": "code",
   "execution_count": 13,
   "id": "0e10fd27",
   "metadata": {},
   "outputs": [
    {
     "data": {
      "text/plain": [
       "0.9435114503816794"
      ]
     },
     "execution_count": 13,
     "metadata": {},
     "output_type": "execute_result"
    }
   ],
   "source": [
    "from sklearn.ensemble import RandomForestClassifier\n",
    "classifier = RandomForestClassifier(n_estimators = 5, criterion = \"entropy\", random_state = 0)\n",
    "classifier.fit(X_train, y_train)\n",
    "y_pred  = classifier.predict(X_test)\n",
    "classifier.score(X_train, y_train)\n"
   ]
  },
  {
   "cell_type": "code",
   "execution_count": 14,
   "id": "3647efdf",
   "metadata": {},
   "outputs": [
    {
     "data": {
      "text/plain": [
       "0.6216628527841342"
      ]
     },
     "execution_count": 14,
     "metadata": {},
     "output_type": "execute_result"
    }
   ],
   "source": [
    "classifier.score(X_test, y_test)"
   ]
  },
  {
   "cell_type": "code",
   "execution_count": 15,
   "id": "a9bf0790",
   "metadata": {},
   "outputs": [
    {
     "data": {
      "text/plain": [
       "1311"
      ]
     },
     "execution_count": 15,
     "metadata": {},
     "output_type": "execute_result"
    }
   ],
   "source": [
    "len(y_test)"
   ]
  },
  {
   "cell_type": "code",
   "execution_count": 16,
   "id": "792834de",
   "metadata": {},
   "outputs": [
    {
     "data": {
      "text/plain": [
       "array([[243,   3, 209],\n",
       "       [ 19,  12,  41],\n",
       "       [200,  11, 573]], dtype=int64)"
      ]
     },
     "execution_count": 16,
     "metadata": {},
     "output_type": "execute_result"
    }
   ],
   "source": [
    "from sklearn.metrics import confusion_matrix\n",
    "#cm = confusion_matrix(y_test, y_pred)\n",
    "cm = confusion_matrix(y_test.argmax(axis=1), y_pred.argmax(axis=1))\n",
    "cm"
   ]
  },
  {
   "cell_type": "code",
   "execution_count": 17,
   "id": "8cd9e19b",
   "metadata": {},
   "outputs": [
    {
     "data": {
      "text/plain": [
       "0.6247139588100686"
      ]
     },
     "execution_count": 17,
     "metadata": {},
     "output_type": "execute_result"
    }
   ],
   "source": [
    "from sklearn import tree\n",
    "classifiertree= tree.DecisionTreeClassifier(max_depth=20)\n",
    "classifiertree.fit(X_train, y_train)\n",
    "y_predtree=classifiertree.predict(X_train)\n",
    "classifiertree.score(X_test, y_test)\n"
   ]
  },
  {
   "cell_type": "code",
   "execution_count": 18,
   "id": "98394a7a",
   "metadata": {},
   "outputs": [
    {
     "data": {
      "text/plain": [
       "0.7997455470737913"
      ]
     },
     "execution_count": 18,
     "metadata": {},
     "output_type": "execute_result"
    }
   ],
   "source": [
    "classifiertree.score(X_train, y_train)"
   ]
  },
  {
   "cell_type": "code",
   "execution_count": 19,
   "id": "a1bece6f",
   "metadata": {},
   "outputs": [
    {
     "data": {
      "text/plain": [
       "array([[ 885,    0,  463],\n",
       "       [   4,   78,  107],\n",
       "       [ 192,    2, 2199]], dtype=int64)"
      ]
     },
     "execution_count": 19,
     "metadata": {},
     "output_type": "execute_result"
    }
   ],
   "source": [
    "cm = confusion_matrix(y_train.argmax(axis=1), y_predtree.argmax(axis=1))\n",
    "cm"
   ]
  },
  {
   "cell_type": "code",
   "execution_count": 20,
   "id": "b8a740aa",
   "metadata": {},
   "outputs": [],
   "source": [
    "#plt.figure(figsize= (15,10))\n",
    "#plt.plot(classifiertree.estima, filled=True)"
   ]
  },
  {
   "cell_type": "code",
   "execution_count": 21,
   "id": "f472cb57",
   "metadata": {
    "hide_input": false
   },
   "outputs": [],
   "source": [
    "#from sklearn import ensemble\n",
    "#classifierGB=ensemble.GradientBoostingClassifier(n_estimators=40)\n",
    "#classifierGB.fit(X_train, y_train)\n",
    "#y_predGB=classifiertree.predict(X_test)\n",
    "#classifierGB.score(X_test, y_test)"
   ]
  },
  {
   "cell_type": "code",
   "execution_count": 22,
   "id": "d759f715",
   "metadata": {},
   "outputs": [],
   "source": [
    "#from sklearn.naive_bayes import GaussianNB\n",
    "#classifierGNB = GaussianNB()\n",
    "#classifierGNB.fit(X_train, y_train)\n",
    "#y_pred  = classifierGNB.predict(X_test)\n",
    "#classifierGNB.score(X_test, y_test)"
   ]
  },
  {
   "cell_type": "code",
   "execution_count": 36,
   "id": "c5dd55d5",
   "metadata": {},
   "outputs": [
    {
     "data": {
      "text/plain": [
       "0.5430968726163234"
      ]
     },
     "execution_count": 36,
     "metadata": {},
     "output_type": "execute_result"
    }
   ],
   "source": [
    "from sklearn.neighbors import KNeighborsClassifier\n",
    "classifierKN = KNeighborsClassifier(n_neighbors=3, leaf_size=50 )\n",
    "classifierKN.fit(X_train, y_train)\n",
    "y_predKN  = classifierKN.predict(X_test)\n",
    "classifierKN.score(X_test, y_test)"
   ]
  },
  {
   "cell_type": "code",
   "execution_count": 37,
   "id": "a75b4ed3",
   "metadata": {},
   "outputs": [
    {
     "data": {
      "text/plain": [
       "0.7648854961832061"
      ]
     },
     "execution_count": 37,
     "metadata": {},
     "output_type": "execute_result"
    }
   ],
   "source": [
    "classifierKN.score(X_train, y_train)"
   ]
  },
  {
   "cell_type": "code",
   "execution_count": 38,
   "id": "2138959e",
   "metadata": {},
   "outputs": [
    {
     "data": {
      "text/plain": [
       "array([[ 957,   11,  380],\n",
       "       [  73,   55,   61],\n",
       "       [ 310,   23, 2060]], dtype=int64)"
      ]
     },
     "execution_count": 38,
     "metadata": {},
     "output_type": "execute_result"
    }
   ],
   "source": [
    "cm = confusion_matrix(y_test.argmax(axis=1), y_predKN.argmax(axis=1))\n",
    "cm"
   ]
  },
  {
   "cell_type": "code",
   "execution_count": 26,
   "id": "b443fe8f",
   "metadata": {},
   "outputs": [],
   "source": [
    "#from sklearn.linear_model import LogisticRegression\n",
    "#classifierLG = LogisticRegression()\n",
    "#classifierLG.fit(X_train, y_train)\n",
    "#y_predKN  = classifierLG.predict(X_test)\n",
    "#classifierLG.score(X_test, y_test)"
   ]
  },
  {
   "cell_type": "code",
   "execution_count": 27,
   "id": "68f3a3ee",
   "metadata": {},
   "outputs": [],
   "source": [
    "#from sklearn.svm import SVC\n",
    "#classifierSVC = SVC(probability= True , kernel= 'linear')\n",
    "#classifierSVC.fit(X_train, y_train)\n",
    "#y_predKN  = classifierSVC.predict(X_test)\n",
    "#classifierSVC.score(X_test, y_test)"
   ]
  },
  {
   "cell_type": "code",
   "execution_count": 28,
   "id": "3e3359cd",
   "metadata": {},
   "outputs": [],
   "source": [
    "#prediccion de probabilidades\n",
    "r_probs = [0 for _ in range(len(y_test))]\n",
    "RF_probs=classifier.predict_proba(X_test)\n",
    "Tree_probs=classifiertree.predict_proba(X_test)\n",
    "KN_probs=classifierKN.predict_proba(X_test)"
   ]
  },
  {
   "cell_type": "code",
   "execution_count": 29,
   "id": "fa164c04",
   "metadata": {},
   "outputs": [],
   "source": [
    "#prediccion de probabilidades positivas\n",
    "#r_probs = r_probs[:,1]\n",
    "#RF_probs=RF_probs[:,1]\n",
    "#Tree_probs=Tree_probs[:,1]\n",
    "#KN_probs=KN_probs[:,1]"
   ]
  },
  {
   "cell_type": "code",
   "execution_count": 30,
   "id": "be148c06",
   "metadata": {},
   "outputs": [],
   "source": [
    "#calculo de curva\n",
    "#from sklearn.metrics import roc_curve, roc_auc_score\n",
    "#r_auc= roc_auc_score(y_test,r_probs)\n",
    "#RF_auc= roc_auc_score(y_test,RF_probs)\n",
    "#Tree_auc= roc_auc_score(y_test,Tree_probs)\n",
    "#KN_auc= roc_auc_score(y_test,KN_probs)"
   ]
  },
  {
   "cell_type": "code",
   "execution_count": 31,
   "id": "9afac96e",
   "metadata": {},
   "outputs": [
    {
     "data": {
      "text/html": [
       "<div>\n",
       "<style scoped>\n",
       "    .dataframe tbody tr th:only-of-type {\n",
       "        vertical-align: middle;\n",
       "    }\n",
       "\n",
       "    .dataframe tbody tr th {\n",
       "        vertical-align: top;\n",
       "    }\n",
       "\n",
       "    .dataframe thead th {\n",
       "        text-align: right;\n",
       "    }\n",
       "</style>\n",
       "<table border=\"1\" class=\"dataframe\">\n",
       "  <thead>\n",
       "    <tr style=\"text-align: right;\">\n",
       "      <th></th>\n",
       "      <th>Patient status</th>\n",
       "      <th>Gender</th>\n",
       "      <th>Patient age</th>\n",
       "      <th>Lineage</th>\n",
       "      <th>Clade</th>\n",
       "      <th>NSP3_I335V</th>\n",
       "      <th>NSP3_E158D</th>\n",
       "      <th>NSP2_I515V</th>\n",
       "      <th>NSP4_T204I</th>\n",
       "      <th>NSP13_R212Q</th>\n",
       "      <th>...</th>\n",
       "      <th>NSP15_P270T</th>\n",
       "      <th>N_S197L</th>\n",
       "      <th>NS7a_V93A</th>\n",
       "      <th>NSP3_E1231K</th>\n",
       "      <th>Spike_S256P</th>\n",
       "      <th>NSP3_E197del</th>\n",
       "      <th>NS8_P36S</th>\n",
       "      <th>E_S55F</th>\n",
       "      <th>NSP16_K277R</th>\n",
       "      <th>NSP14_A371D</th>\n",
       "    </tr>\n",
       "  </thead>\n",
       "  <tbody>\n",
       "    <tr>\n",
       "      <th>35</th>\n",
       "      <td>D</td>\n",
       "      <td>H</td>\n",
       "      <td>32</td>\n",
       "      <td>B.1.609</td>\n",
       "      <td>O</td>\n",
       "      <td>0</td>\n",
       "      <td>0</td>\n",
       "      <td>0</td>\n",
       "      <td>0</td>\n",
       "      <td>0</td>\n",
       "      <td>...</td>\n",
       "      <td>0</td>\n",
       "      <td>0</td>\n",
       "      <td>0</td>\n",
       "      <td>0</td>\n",
       "      <td>0</td>\n",
       "      <td>0</td>\n",
       "      <td>0</td>\n",
       "      <td>0</td>\n",
       "      <td>0</td>\n",
       "      <td>0</td>\n",
       "    </tr>\n",
       "    <tr>\n",
       "      <th>36</th>\n",
       "      <td>D</td>\n",
       "      <td>M</td>\n",
       "      <td>25</td>\n",
       "      <td>B.1</td>\n",
       "      <td>O</td>\n",
       "      <td>0</td>\n",
       "      <td>0</td>\n",
       "      <td>0</td>\n",
       "      <td>0</td>\n",
       "      <td>0</td>\n",
       "      <td>...</td>\n",
       "      <td>0</td>\n",
       "      <td>0</td>\n",
       "      <td>0</td>\n",
       "      <td>0</td>\n",
       "      <td>0</td>\n",
       "      <td>0</td>\n",
       "      <td>0</td>\n",
       "      <td>0</td>\n",
       "      <td>0</td>\n",
       "      <td>0</td>\n",
       "    </tr>\n",
       "    <tr>\n",
       "      <th>37</th>\n",
       "      <td>A</td>\n",
       "      <td>M</td>\n",
       "      <td>48</td>\n",
       "      <td>B.1.1.519</td>\n",
       "      <td>GR</td>\n",
       "      <td>0</td>\n",
       "      <td>0</td>\n",
       "      <td>0</td>\n",
       "      <td>0</td>\n",
       "      <td>0</td>\n",
       "      <td>...</td>\n",
       "      <td>0</td>\n",
       "      <td>0</td>\n",
       "      <td>0</td>\n",
       "      <td>0</td>\n",
       "      <td>0</td>\n",
       "      <td>0</td>\n",
       "      <td>0</td>\n",
       "      <td>0</td>\n",
       "      <td>0</td>\n",
       "      <td>0</td>\n",
       "    </tr>\n",
       "    <tr>\n",
       "      <th>38</th>\n",
       "      <td>A</td>\n",
       "      <td>M</td>\n",
       "      <td>47</td>\n",
       "      <td>B.1.2</td>\n",
       "      <td>GH</td>\n",
       "      <td>0</td>\n",
       "      <td>0</td>\n",
       "      <td>0</td>\n",
       "      <td>0</td>\n",
       "      <td>0</td>\n",
       "      <td>...</td>\n",
       "      <td>0</td>\n",
       "      <td>0</td>\n",
       "      <td>0</td>\n",
       "      <td>0</td>\n",
       "      <td>0</td>\n",
       "      <td>0</td>\n",
       "      <td>0</td>\n",
       "      <td>0</td>\n",
       "      <td>0</td>\n",
       "      <td>0</td>\n",
       "    </tr>\n",
       "    <tr>\n",
       "      <th>39</th>\n",
       "      <td>A</td>\n",
       "      <td>M</td>\n",
       "      <td>19</td>\n",
       "      <td>B.1.429</td>\n",
       "      <td>GH</td>\n",
       "      <td>0</td>\n",
       "      <td>0</td>\n",
       "      <td>0</td>\n",
       "      <td>0</td>\n",
       "      <td>0</td>\n",
       "      <td>...</td>\n",
       "      <td>0</td>\n",
       "      <td>0</td>\n",
       "      <td>0</td>\n",
       "      <td>0</td>\n",
       "      <td>0</td>\n",
       "      <td>0</td>\n",
       "      <td>0</td>\n",
       "      <td>0</td>\n",
       "      <td>0</td>\n",
       "      <td>0</td>\n",
       "    </tr>\n",
       "    <tr>\n",
       "      <th>...</th>\n",
       "      <td>...</td>\n",
       "      <td>...</td>\n",
       "      <td>...</td>\n",
       "      <td>...</td>\n",
       "      <td>...</td>\n",
       "      <td>...</td>\n",
       "      <td>...</td>\n",
       "      <td>...</td>\n",
       "      <td>...</td>\n",
       "      <td>...</td>\n",
       "      <td>...</td>\n",
       "      <td>...</td>\n",
       "      <td>...</td>\n",
       "      <td>...</td>\n",
       "      <td>...</td>\n",
       "      <td>...</td>\n",
       "      <td>...</td>\n",
       "      <td>...</td>\n",
       "      <td>...</td>\n",
       "      <td>...</td>\n",
       "      <td>...</td>\n",
       "    </tr>\n",
       "    <tr>\n",
       "      <th>8511</th>\n",
       "      <td>H</td>\n",
       "      <td>H</td>\n",
       "      <td>44</td>\n",
       "      <td>B.1.1</td>\n",
       "      <td>GR</td>\n",
       "      <td>0</td>\n",
       "      <td>0</td>\n",
       "      <td>0</td>\n",
       "      <td>0</td>\n",
       "      <td>0</td>\n",
       "      <td>...</td>\n",
       "      <td>0</td>\n",
       "      <td>0</td>\n",
       "      <td>0</td>\n",
       "      <td>0</td>\n",
       "      <td>0</td>\n",
       "      <td>0</td>\n",
       "      <td>0</td>\n",
       "      <td>0</td>\n",
       "      <td>0</td>\n",
       "      <td>0</td>\n",
       "    </tr>\n",
       "    <tr>\n",
       "      <th>8512</th>\n",
       "      <td>H</td>\n",
       "      <td>H</td>\n",
       "      <td>56</td>\n",
       "      <td>B.1.1.222</td>\n",
       "      <td>GR</td>\n",
       "      <td>0</td>\n",
       "      <td>0</td>\n",
       "      <td>0</td>\n",
       "      <td>0</td>\n",
       "      <td>0</td>\n",
       "      <td>...</td>\n",
       "      <td>0</td>\n",
       "      <td>0</td>\n",
       "      <td>0</td>\n",
       "      <td>0</td>\n",
       "      <td>0</td>\n",
       "      <td>0</td>\n",
       "      <td>0</td>\n",
       "      <td>0</td>\n",
       "      <td>0</td>\n",
       "      <td>0</td>\n",
       "    </tr>\n",
       "    <tr>\n",
       "      <th>8513</th>\n",
       "      <td>D</td>\n",
       "      <td>M</td>\n",
       "      <td>61</td>\n",
       "      <td>B.1.609</td>\n",
       "      <td>G</td>\n",
       "      <td>0</td>\n",
       "      <td>0</td>\n",
       "      <td>0</td>\n",
       "      <td>0</td>\n",
       "      <td>0</td>\n",
       "      <td>...</td>\n",
       "      <td>0</td>\n",
       "      <td>0</td>\n",
       "      <td>0</td>\n",
       "      <td>0</td>\n",
       "      <td>0</td>\n",
       "      <td>0</td>\n",
       "      <td>0</td>\n",
       "      <td>0</td>\n",
       "      <td>0</td>\n",
       "      <td>0</td>\n",
       "    </tr>\n",
       "    <tr>\n",
       "      <th>8514</th>\n",
       "      <td>H</td>\n",
       "      <td>H</td>\n",
       "      <td>26</td>\n",
       "      <td>B.1.609</td>\n",
       "      <td>G</td>\n",
       "      <td>0</td>\n",
       "      <td>0</td>\n",
       "      <td>0</td>\n",
       "      <td>0</td>\n",
       "      <td>0</td>\n",
       "      <td>...</td>\n",
       "      <td>0</td>\n",
       "      <td>0</td>\n",
       "      <td>0</td>\n",
       "      <td>0</td>\n",
       "      <td>0</td>\n",
       "      <td>0</td>\n",
       "      <td>0</td>\n",
       "      <td>0</td>\n",
       "      <td>0</td>\n",
       "      <td>0</td>\n",
       "    </tr>\n",
       "    <tr>\n",
       "      <th>8515</th>\n",
       "      <td>H</td>\n",
       "      <td>H</td>\n",
       "      <td>34</td>\n",
       "      <td>B.1.189</td>\n",
       "      <td>G</td>\n",
       "      <td>0</td>\n",
       "      <td>0</td>\n",
       "      <td>0</td>\n",
       "      <td>0</td>\n",
       "      <td>0</td>\n",
       "      <td>...</td>\n",
       "      <td>0</td>\n",
       "      <td>0</td>\n",
       "      <td>0</td>\n",
       "      <td>0</td>\n",
       "      <td>0</td>\n",
       "      <td>0</td>\n",
       "      <td>0</td>\n",
       "      <td>0</td>\n",
       "      <td>0</td>\n",
       "      <td>0</td>\n",
       "    </tr>\n",
       "  </tbody>\n",
       "</table>\n",
       "<p>5241 rows × 6965 columns</p>\n",
       "</div>"
      ],
      "text/plain": [
       "     Patient status Gender  Patient age    Lineage Clade  NSP3_I335V  \\\n",
       "35                D      H           32    B.1.609     O           0   \n",
       "36                D      M           25        B.1     O           0   \n",
       "37                A      M           48  B.1.1.519    GR           0   \n",
       "38                A      M           47      B.1.2    GH           0   \n",
       "39                A      M           19    B.1.429    GH           0   \n",
       "...             ...    ...          ...        ...   ...         ...   \n",
       "8511              H      H           44      B.1.1    GR           0   \n",
       "8512              H      H           56  B.1.1.222    GR           0   \n",
       "8513              D      M           61    B.1.609     G           0   \n",
       "8514              H      H           26    B.1.609     G           0   \n",
       "8515              H      H           34    B.1.189     G           0   \n",
       "\n",
       "      NSP3_E158D  NSP2_I515V  NSP4_T204I  NSP13_R212Q  ...  NSP15_P270T  \\\n",
       "35             0           0           0            0  ...            0   \n",
       "36             0           0           0            0  ...            0   \n",
       "37             0           0           0            0  ...            0   \n",
       "38             0           0           0            0  ...            0   \n",
       "39             0           0           0            0  ...            0   \n",
       "...          ...         ...         ...          ...  ...          ...   \n",
       "8511           0           0           0            0  ...            0   \n",
       "8512           0           0           0            0  ...            0   \n",
       "8513           0           0           0            0  ...            0   \n",
       "8514           0           0           0            0  ...            0   \n",
       "8515           0           0           0            0  ...            0   \n",
       "\n",
       "      N_S197L  NS7a_V93A  NSP3_E1231K  Spike_S256P  NSP3_E197del  NS8_P36S  \\\n",
       "35          0          0            0            0             0         0   \n",
       "36          0          0            0            0             0         0   \n",
       "37          0          0            0            0             0         0   \n",
       "38          0          0            0            0             0         0   \n",
       "39          0          0            0            0             0         0   \n",
       "...       ...        ...          ...          ...           ...       ...   \n",
       "8511        0          0            0            0             0         0   \n",
       "8512        0          0            0            0             0         0   \n",
       "8513        0          0            0            0             0         0   \n",
       "8514        0          0            0            0             0         0   \n",
       "8515        0          0            0            0             0         0   \n",
       "\n",
       "      E_S55F  NSP16_K277R  NSP14_A371D  \n",
       "35         0            0            0  \n",
       "36         0            0            0  \n",
       "37         0            0            0  \n",
       "38         0            0            0  \n",
       "39         0            0            0  \n",
       "...      ...          ...          ...  \n",
       "8511       0            0            0  \n",
       "8512       0            0            0  \n",
       "8513       0            0            0  \n",
       "8514       0            0            0  \n",
       "8515       0            0            0  \n",
       "\n",
       "[5241 rows x 6965 columns]"
      ]
     },
     "execution_count": 31,
     "metadata": {},
     "output_type": "execute_result"
    }
   ],
   "source": [
    "z"
   ]
  },
  {
   "cell_type": "code",
   "execution_count": 32,
   "id": "d01d44e7",
   "metadata": {},
   "outputs": [],
   "source": [
    "# Classifying data into numerical and categorical variables.\n",
    "import seaborn as sns\n",
    "data_numerical=z[['Patient age']]\n",
    "data_categorical=z[['Patient status', 'Gender', 'Lineage', 'Clade']]"
   ]
  },
  {
   "cell_type": "code",
   "execution_count": 33,
   "id": "ec95fc7d",
   "metadata": {},
   "outputs": [
    {
     "data": {
      "text/plain": [
       "Text(0.5, 1.0, 'Edad')"
      ]
     },
     "execution_count": 33,
     "metadata": {},
     "output_type": "execute_result"
    },
    {
     "data": {
      "image/png": "[encoded data removed]",
      "text/plain": [
       "<Figure size 864x432 with 1 Axes>"
      ]
     },
     "metadata": {},
     "output_type": "display_data"
    }
   ],
   "source": [
    "fig, ax = plt.subplots(figsize = (12,6))\n",
    "fig.patch.set_facecolor('#f6f5f7')\n",
    "ax.set_facecolor('#f6f5f5')\n",
    "sns.kdeplot(data=data_numerical,shade=True,palette='rocket') # Distributions\n",
    "# removing spines\n",
    "for i in [\"top\",\"right\"]:\n",
    "    ax.spines[i].set_visible(False)\n",
    "plt.title('Edad',weight='bold')"
   ]
  },
  {
   "cell_type": "code",
   "execution_count": 34,
   "id": "011e411b",
   "metadata": {},
   "outputs": [
    {
     "data": {
      "image/png": "[encoded data removed]",
      "text/plain": [
       "<Figure size 1000x500 with 2 Axes>"
      ]
     },
     "metadata": {},
     "output_type": "display_data"
    }
   ],
   "source": [
    "fig=plt.figure(figsize=(10,5),dpi=100)\n",
    "gs=fig.add_gridspec(1,2)\n",
    "# adding subplots\n",
    "ax0=fig.add_subplot(gs[0,0])\n",
    "ax1=fig.add_subplot(gs[0,1])\n",
    "axes=[ax0,ax1]\n",
    "background_color = '#f6f5f7'\n",
    "# changing background color of our plots\n",
    "for i in axes:\n",
    "    i.set_facecolor(background_color)\n",
    "# changing the figure background color\n",
    "fig.patch.set_facecolor(background_color) \n",
    "# heatmap of numerical data\n",
    "#corrmat = z.corr()"
   ]
  },
  {
   "cell_type": "code",
   "execution_count": 35,
   "id": "a99de9c3",
   "metadata": {
    "hide_input": true
   },
   "outputs": [
    {
     "ename": "ValueError",
     "evalue": "X has 2 features, but DecisionTreeClassifier is expecting 7068 features as input.",
     "output_type": "error",
     "traceback": [
      "\u001b[1;31m---------------------------------------------------------------------------\u001b[0m",
      "\u001b[1;31mValueError\u001b[0m                                Traceback (most recent call last)",
      "\u001b[1;32m<ipython-input-35-88ee4e6a3afc>\u001b[0m in \u001b[0;36m<module>\u001b[1;34m\u001b[0m\n\u001b[0;32m      2\u001b[0m X1, X2 = np.meshgrid(np.arange(start = X_set[:, 0].min() - 1, stop = X_set[:, 0].max() + 1, step = 0.01),\n\u001b[0;32m      3\u001b[0m                      np.arange(start = X_set[:, 1].min() - 1, stop = X_set[:, 1].max() + 1, step = 0.01))\n\u001b[1;32m----> 4\u001b[1;33m plt.contourf(X1, X2, classifier.predict(np.array([X1.ravel(), X2.ravel()]).T).reshape(X1.shape),\n\u001b[0m\u001b[0;32m      5\u001b[0m              alpha = 0.75, cmap = ListedColormap(('red', 'green')))\n\u001b[0;32m      6\u001b[0m \u001b[0mplt\u001b[0m\u001b[1;33m.\u001b[0m\u001b[0mxlim\u001b[0m\u001b[1;33m(\u001b[0m\u001b[0mX1\u001b[0m\u001b[1;33m.\u001b[0m\u001b[0mmin\u001b[0m\u001b[1;33m(\u001b[0m\u001b[1;33m)\u001b[0m\u001b[1;33m,\u001b[0m \u001b[0mX1\u001b[0m\u001b[1;33m.\u001b[0m\u001b[0mmax\u001b[0m\u001b[1;33m(\u001b[0m\u001b[1;33m)\u001b[0m\u001b[1;33m)\u001b[0m\u001b[1;33m\u001b[0m\u001b[1;33m\u001b[0m\u001b[0m\n",
      "\u001b[1;32mc:\\users\\asus\\appdata\\local\\programs\\python\\python39\\lib\\site-packages\\sklearn\\ensemble\\_forest.py\u001b[0m in \u001b[0;36mpredict\u001b[1;34m(self, X)\u001b[0m\n\u001b[0;32m    628\u001b[0m             \u001b[0mThe\u001b[0m \u001b[0mpredicted\u001b[0m \u001b[0mclasses\u001b[0m\u001b[1;33m.\u001b[0m\u001b[1;33m\u001b[0m\u001b[1;33m\u001b[0m\u001b[0m\n\u001b[0;32m    629\u001b[0m         \"\"\"\n\u001b[1;32m--> 630\u001b[1;33m         \u001b[0mproba\u001b[0m \u001b[1;33m=\u001b[0m \u001b[0mself\u001b[0m\u001b[1;33m.\u001b[0m\u001b[0mpredict_proba\u001b[0m\u001b[1;33m(\u001b[0m\u001b[0mX\u001b[0m\u001b[1;33m)\u001b[0m\u001b[1;33m\u001b[0m\u001b[1;33m\u001b[0m\u001b[0m\n\u001b[0m\u001b[0;32m    631\u001b[0m \u001b[1;33m\u001b[0m\u001b[0m\n\u001b[0;32m    632\u001b[0m         \u001b[1;32mif\u001b[0m \u001b[0mself\u001b[0m\u001b[1;33m.\u001b[0m\u001b[0mn_outputs_\u001b[0m \u001b[1;33m==\u001b[0m \u001b[1;36m1\u001b[0m\u001b[1;33m:\u001b[0m\u001b[1;33m\u001b[0m\u001b[1;33m\u001b[0m\u001b[0m\n",
      "\u001b[1;32mc:\\users\\asus\\appdata\\local\\programs\\python\\python39\\lib\\site-packages\\sklearn\\ensemble\\_forest.py\u001b[0m in \u001b[0;36mpredict_proba\u001b[1;34m(self, X)\u001b[0m\n\u001b[0;32m    672\u001b[0m         \u001b[0mcheck_is_fitted\u001b[0m\u001b[1;33m(\u001b[0m\u001b[0mself\u001b[0m\u001b[1;33m)\u001b[0m\u001b[1;33m\u001b[0m\u001b[1;33m\u001b[0m\u001b[0m\n\u001b[0;32m    673\u001b[0m         \u001b[1;31m# Check data\u001b[0m\u001b[1;33m\u001b[0m\u001b[1;33m\u001b[0m\u001b[1;33m\u001b[0m\u001b[0m\n\u001b[1;32m--> 674\u001b[1;33m         \u001b[0mX\u001b[0m \u001b[1;33m=\u001b[0m \u001b[0mself\u001b[0m\u001b[1;33m.\u001b[0m\u001b[0m_validate_X_predict\u001b[0m\u001b[1;33m(\u001b[0m\u001b[0mX\u001b[0m\u001b[1;33m)\u001b[0m\u001b[1;33m\u001b[0m\u001b[1;33m\u001b[0m\u001b[0m\n\u001b[0m\u001b[0;32m    675\u001b[0m \u001b[1;33m\u001b[0m\u001b[0m\n\u001b[0;32m    676\u001b[0m         \u001b[1;31m# Assign chunk of trees to jobs\u001b[0m\u001b[1;33m\u001b[0m\u001b[1;33m\u001b[0m\u001b[1;33m\u001b[0m\u001b[0m\n",
      "\u001b[1;32mc:\\users\\asus\\appdata\\local\\programs\\python\\python39\\lib\\site-packages\\sklearn\\ensemble\\_forest.py\u001b[0m in \u001b[0;36m_validate_X_predict\u001b[1;34m(self, X)\u001b[0m\n\u001b[0;32m    420\u001b[0m         \u001b[0mcheck_is_fitted\u001b[0m\u001b[1;33m(\u001b[0m\u001b[0mself\u001b[0m\u001b[1;33m)\u001b[0m\u001b[1;33m\u001b[0m\u001b[1;33m\u001b[0m\u001b[0m\n\u001b[0;32m    421\u001b[0m \u001b[1;33m\u001b[0m\u001b[0m\n\u001b[1;32m--> 422\u001b[1;33m         \u001b[1;32mreturn\u001b[0m \u001b[0mself\u001b[0m\u001b[1;33m.\u001b[0m\u001b[0mestimators_\u001b[0m\u001b[1;33m[\u001b[0m\u001b[1;36m0\u001b[0m\u001b[1;33m]\u001b[0m\u001b[1;33m.\u001b[0m\u001b[0m_validate_X_predict\u001b[0m\u001b[1;33m(\u001b[0m\u001b[0mX\u001b[0m\u001b[1;33m,\u001b[0m \u001b[0mcheck_input\u001b[0m\u001b[1;33m=\u001b[0m\u001b[1;32mTrue\u001b[0m\u001b[1;33m)\u001b[0m\u001b[1;33m\u001b[0m\u001b[1;33m\u001b[0m\u001b[0m\n\u001b[0m\u001b[0;32m    423\u001b[0m \u001b[1;33m\u001b[0m\u001b[0m\n\u001b[0;32m    424\u001b[0m     \u001b[1;33m@\u001b[0m\u001b[0mproperty\u001b[0m\u001b[1;33m\u001b[0m\u001b[1;33m\u001b[0m\u001b[0m\n",
      "\u001b[1;32mc:\\users\\asus\\appdata\\local\\programs\\python\\python39\\lib\\site-packages\\sklearn\\tree\\_classes.py\u001b[0m in \u001b[0;36m_validate_X_predict\u001b[1;34m(self, X, check_input)\u001b[0m\n\u001b[0;32m    405\u001b[0m         \u001b[1;34m\"\"\"Validate the training data on predict (probabilities).\"\"\"\u001b[0m\u001b[1;33m\u001b[0m\u001b[1;33m\u001b[0m\u001b[0m\n\u001b[0;32m    406\u001b[0m         \u001b[1;32mif\u001b[0m \u001b[0mcheck_input\u001b[0m\u001b[1;33m:\u001b[0m\u001b[1;33m\u001b[0m\u001b[1;33m\u001b[0m\u001b[0m\n\u001b[1;32m--> 407\u001b[1;33m             X = self._validate_data(X, dtype=DTYPE, accept_sparse=\"csr\",\n\u001b[0m\u001b[0;32m    408\u001b[0m                                     reset=False)\n\u001b[0;32m    409\u001b[0m             if issparse(X) and (X.indices.dtype != np.intc or\n",
      "\u001b[1;32mc:\\users\\asus\\appdata\\local\\programs\\python\\python39\\lib\\site-packages\\sklearn\\base.py\u001b[0m in \u001b[0;36m_validate_data\u001b[1;34m(self, X, y, reset, validate_separately, **check_params)\u001b[0m\n\u001b[0;32m    435\u001b[0m \u001b[1;33m\u001b[0m\u001b[0m\n\u001b[0;32m    436\u001b[0m         \u001b[1;32mif\u001b[0m \u001b[0mcheck_params\u001b[0m\u001b[1;33m.\u001b[0m\u001b[0mget\u001b[0m\u001b[1;33m(\u001b[0m\u001b[1;34m'ensure_2d'\u001b[0m\u001b[1;33m,\u001b[0m \u001b[1;32mTrue\u001b[0m\u001b[1;33m)\u001b[0m\u001b[1;33m:\u001b[0m\u001b[1;33m\u001b[0m\u001b[1;33m\u001b[0m\u001b[0m\n\u001b[1;32m--> 437\u001b[1;33m             \u001b[0mself\u001b[0m\u001b[1;33m.\u001b[0m\u001b[0m_check_n_features\u001b[0m\u001b[1;33m(\u001b[0m\u001b[0mX\u001b[0m\u001b[1;33m,\u001b[0m \u001b[0mreset\u001b[0m\u001b[1;33m=\u001b[0m\u001b[0mreset\u001b[0m\u001b[1;33m)\u001b[0m\u001b[1;33m\u001b[0m\u001b[1;33m\u001b[0m\u001b[0m\n\u001b[0m\u001b[0;32m    438\u001b[0m \u001b[1;33m\u001b[0m\u001b[0m\n\u001b[0;32m    439\u001b[0m         \u001b[1;32mreturn\u001b[0m \u001b[0mout\u001b[0m\u001b[1;33m\u001b[0m\u001b[1;33m\u001b[0m\u001b[0m\n",
      "\u001b[1;32mc:\\users\\asus\\appdata\\local\\programs\\python\\python39\\lib\\site-packages\\sklearn\\base.py\u001b[0m in \u001b[0;36m_check_n_features\u001b[1;34m(self, X, reset)\u001b[0m\n\u001b[0;32m    363\u001b[0m \u001b[1;33m\u001b[0m\u001b[0m\n\u001b[0;32m    364\u001b[0m         \u001b[1;32mif\u001b[0m \u001b[0mn_features\u001b[0m \u001b[1;33m!=\u001b[0m \u001b[0mself\u001b[0m\u001b[1;33m.\u001b[0m\u001b[0mn_features_in_\u001b[0m\u001b[1;33m:\u001b[0m\u001b[1;33m\u001b[0m\u001b[1;33m\u001b[0m\u001b[0m\n\u001b[1;32m--> 365\u001b[1;33m             raise ValueError(\n\u001b[0m\u001b[0;32m    366\u001b[0m                 \u001b[1;34mf\"X has {n_features} features, but {self.__class__.__name__} \"\u001b[0m\u001b[1;33m\u001b[0m\u001b[1;33m\u001b[0m\u001b[0m\n\u001b[0;32m    367\u001b[0m                 f\"is expecting {self.n_features_in_} features as input.\")\n",
      "\u001b[1;31mValueError\u001b[0m: X has 2 features, but DecisionTreeClassifier is expecting 7068 features as input."
     ]
    }
   ],
   "source": [
    "X_set, y_set = X_test, y_test\n",
    "X1, X2 = np.meshgrid(np.arange(start = X_set[:, 0].min() - 1, stop = X_set[:, 0].max() + 1, step = 0.01),\n",
    "                     np.arange(start = X_set[:, 1].min() - 1, stop = X_set[:, 1].max() + 1, step = 0.01))\n",
    "plt.contourf(X1, X2, classifier.predict(np.array([X1.ravel(), X2.ravel()]).T).reshape(X1.shape),\n",
    "             alpha = 0.75, cmap = ListedColormap(('red', 'green')))\n",
    "plt.xlim(X1.min(), X1.max())\n",
    "plt.ylim(X2.min(), X2.max())\n",
    "for i, j in enumerate(np.unique(y_set)):\n",
    "    plt.scatter(X_set[y_set == j, 0], X_set[y_set == j, 1],\n",
    "                c = ListedColormap(('red', 'green'))(i), label = j)\n",
    "plt.title('Random Forest (Conjunto de Test)')\n",
    "\n",
    "plt.legend()\n",
    "plt.show()"
   ]
  },
  {
   "cell_type": "code",
   "execution_count": null,
   "id": "635c764b",
   "metadata": {},
   "outputs": [],
   "source": []
  }
 ],
 "metadata": {
  "kernelspec": {
   "display_name": "Python 3",
   "language": "python",
   "name": "python3"
  },
  "language_info": {
   "codemirror_mode": {
    "name": "ipython",
    "version": 3
   },
   "file_extension": ".py",
   "mimetype": "text/x-python",
   "name": "python",
   "nbconvert_exporter": "python",
   "pygments_lexer": "ipython3",
   "version": "3.9.5"
  },
  "nbTranslate": {
   "displayLangs": [
    "es"
   ],
   "hotkey": "alt-t",
   "langInMainMenu": true,
   "sourceLang": "en",
   "targetLang": "es",
   "useGoogleTranslate": true
  },
  "toc": {
   "base_numbering": 1,
   "nav_menu": {},
   "number_sections": true,
   "sideBar": false,
   "skip_h1_title": false,
   "title_cell": "Table of Contents",
   "title_sidebar": "Contents",
   "toc_cell": false,
   "toc_position": {
    "height": "759px",
    "left": "22px",
    "top": "180px",
    "width": "376px"
   },
   "toc_section_display": true,
   "toc_window_display": false
  },
  "varInspector": {
   "cols": {
    "lenName": 16,
    "lenType": 16,
    "lenVar": 40
   },
   "kernels_config": {
    "python": {
     "delete_cmd_postfix": "",
     "delete_cmd_prefix": "del ",
     "library": "var_list.py",
     "varRefreshCmd": "print(var_dic_list())"
    },
    "r": {
     "delete_cmd_postfix": ") ",
     "delete_cmd_prefix": "rm(",
     "library": "var_list.r",
     "varRefreshCmd": "cat(var_dic_list()) "
    }
   },
   "types_to_exclude": [
    "module",
    "function",
    "builtin_function_or_method",
    "instance",
    "_Feature"
   ],
   "window_display": false
  }
 },
 "nbformat": 4,
 "nbformat_minor": 5
}
